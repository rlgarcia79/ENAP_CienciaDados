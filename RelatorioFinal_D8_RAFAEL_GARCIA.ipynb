{
  "nbformat": 4,
  "nbformat_minor": 0,
  "metadata": {
    "colab": {
      "name": "RelatorioFinal_D8-RAFAEL_GARCIA.ipynb",
      "provenance": [],
      "collapsed_sections": [],
      "authorship_tag": "ABX9TyOy5qkvojuFZmiXL2qpgPyM",
      "include_colab_link": true
    },
    "kernelspec": {
      "display_name": "Python 3",
      "name": "python3"
    },
    "language_info": {
      "name": "python"
    }
  },
  "cells": [
    {
      "cell_type": "markdown",
      "metadata": {
        "id": "view-in-github",
        "colab_type": "text"
      },
      "source": [
        "<a href=\"https://colab.research.google.com/github/rlgarcia79/ENAP_CienciaDados/blob/main/RelatorioFinal_D8_RAFAEL_GARCIA.ipynb\" target=\"_parent\"><img src=\"https://colab.research.google.com/assets/colab-badge.svg\" alt=\"Open In Colab\"/></a>"
      ]
    },
    {
      "cell_type": "markdown",
      "metadata": {
        "id": "xfaMrP1WIJ-G"
      },
      "source": [
        "Especialização em Ciência de Dados aplicada a Políticas Públicas - ENAP\n",
        "\n",
        "Disciplina: **D8 - Estatística Inferencial**\n",
        "\n",
        "Aluno: **Rafael Leal Garcia**\n",
        "\n",
        "Professor: **James Sampaio**"
      ]
    },
    {
      "cell_type": "code",
      "metadata": {
        "id": "9HWscuo6H3lA"
      },
      "source": [
        "import pandas as pd\n",
        "import numpy as np\n",
        "\n",
        "from scipy import stats\n",
        "from scipy.stats import norm\n",
        "from scipy.stats import t\n",
        "from scipy.stats import ttest_ind\n",
        "\n",
        "import seaborn as sns\n",
        "import matplotlib.pyplot as plt\n",
        "\n",
        "\n",
        "#from google.colab import drive\n",
        "#drive.mount('/drive', force_remount=True)\n",
        "\n",
        "import warnings\n",
        "warnings.filterwarnings(\"ignore\")"
      ],
      "execution_count": 3,
      "outputs": []
    },
    {
      "cell_type": "markdown",
      "metadata": {
        "id": "InhTk9SzynW-"
      },
      "source": [
        "**BASE DE DADOS 01**\n",
        "---\n"
      ]
    },
    {
      "cell_type": "markdown",
      "metadata": {
        "id": "3mOoS5QfzkAI"
      },
      "source": [
        "**OBJETIVO:**\n",
        "\n",
        "Esse banco contém duas populações de tamanho 10.000. O objetivo é comparar a média de ambos. Inicialmente, o estudante pode tomar uma amostra piloto de tamanho 100 para decidir o tamanho das amostrar para cada população. Em seguida serão necessários a construção de histogramas e boxplots, testar a normalidade, construir intervalos de confiança para a média e variância, analisar previamente a hipótese de igualdade das variâncias e, finalmente, realizar o teste adequado."
      ]
    },
    {
      "cell_type": "code",
      "metadata": {
        "id": "rpfuI95VJge0"
      },
      "source": [
        "#----------------------------------------------------------------------------------------------------\n",
        "# Arquivo/pasta do GitHub contendo os dados da BASE 01\n",
        "#----------------------------------------------------------------------------------------------------\n",
        "s_githubpath_entrada = 'https://raw.githubusercontent.com/rlgarcia79/ENAP_CienciaDados/main/'\n",
        "s_arquivo_entrada = 'rafael.leal.garciabase1.csv'\n",
        "\n",
        "#-----------------------------------------------------------------------------\n",
        "# Carrega o arquivo com os dados da BASE 01\n",
        "#-----------------------------------------------------------------------------\n",
        "df_base_01 = pd.read_csv(s_githubpath_entrada + s_arquivo_entrada)"
      ],
      "execution_count": 96,
      "outputs": []
    },
    {
      "cell_type": "markdown",
      "metadata": {
        "id": "73e_83tozdA3"
      },
      "source": [
        "**1. EXPLORANDO A BASE DE DADOS 01**\n",
        "\n",
        "\n",
        "\n"
      ]
    },
    {
      "cell_type": "code",
      "metadata": {
        "colab": {
          "base_uri": "https://localhost:8080/"
        },
        "id": "TtEXSd2ZR-oN",
        "outputId": "a7851943-befd-4497-e0fe-ab01c0825711"
      },
      "source": [
        "# Qtde de linhas e colunas\n",
        "df_base_01.shape"
      ],
      "execution_count": 97,
      "outputs": [
        {
          "output_type": "execute_result",
          "data": {
            "text/plain": [
              "(10000, 2)"
            ]
          },
          "metadata": {},
          "execution_count": 97
        }
      ]
    },
    {
      "cell_type": "code",
      "metadata": {
        "colab": {
          "base_uri": "https://localhost:8080/",
          "height": 357
        },
        "id": "VsmHVxb9SVTg",
        "outputId": "78076463-805d-44f4-f8ce-8df4a1a5d3bf"
      },
      "source": [
        "#Primeiros registros\n",
        "df_base_01.head(10)"
      ],
      "execution_count": 98,
      "outputs": [
        {
          "output_type": "execute_result",
          "data": {
            "text/html": [
              "<div>\n",
              "<style scoped>\n",
              "    .dataframe tbody tr th:only-of-type {\n",
              "        vertical-align: middle;\n",
              "    }\n",
              "\n",
              "    .dataframe tbody tr th {\n",
              "        vertical-align: top;\n",
              "    }\n",
              "\n",
              "    .dataframe thead th {\n",
              "        text-align: right;\n",
              "    }\n",
              "</style>\n",
              "<table border=\"1\" class=\"dataframe\">\n",
              "  <thead>\n",
              "    <tr style=\"text-align: right;\">\n",
              "      <th></th>\n",
              "      <th>pop1</th>\n",
              "      <th>pop2</th>\n",
              "    </tr>\n",
              "  </thead>\n",
              "  <tbody>\n",
              "    <tr>\n",
              "      <th>0</th>\n",
              "      <td>1997.883817</td>\n",
              "      <td>2011.277557</td>\n",
              "    </tr>\n",
              "    <tr>\n",
              "      <th>1</th>\n",
              "      <td>1994.387924</td>\n",
              "      <td>2021.041513</td>\n",
              "    </tr>\n",
              "    <tr>\n",
              "      <th>2</th>\n",
              "      <td>2002.330362</td>\n",
              "      <td>1986.476371</td>\n",
              "    </tr>\n",
              "    <tr>\n",
              "      <th>3</th>\n",
              "      <td>1987.652168</td>\n",
              "      <td>1990.808700</td>\n",
              "    </tr>\n",
              "    <tr>\n",
              "      <th>4</th>\n",
              "      <td>1977.132627</td>\n",
              "      <td>1984.367525</td>\n",
              "    </tr>\n",
              "    <tr>\n",
              "      <th>5</th>\n",
              "      <td>1990.663410</td>\n",
              "      <td>1999.438364</td>\n",
              "    </tr>\n",
              "    <tr>\n",
              "      <th>6</th>\n",
              "      <td>1973.590496</td>\n",
              "      <td>2004.981835</td>\n",
              "    </tr>\n",
              "    <tr>\n",
              "      <th>7</th>\n",
              "      <td>1985.773286</td>\n",
              "      <td>1991.222810</td>\n",
              "    </tr>\n",
              "    <tr>\n",
              "      <th>8</th>\n",
              "      <td>1998.884692</td>\n",
              "      <td>2020.009067</td>\n",
              "    </tr>\n",
              "    <tr>\n",
              "      <th>9</th>\n",
              "      <td>1999.709858</td>\n",
              "      <td>1984.199251</td>\n",
              "    </tr>\n",
              "  </tbody>\n",
              "</table>\n",
              "</div>"
            ],
            "text/plain": [
              "          pop1         pop2\n",
              "0  1997.883817  2011.277557\n",
              "1  1994.387924  2021.041513\n",
              "2  2002.330362  1986.476371\n",
              "3  1987.652168  1990.808700\n",
              "4  1977.132627  1984.367525\n",
              "5  1990.663410  1999.438364\n",
              "6  1973.590496  2004.981835\n",
              "7  1985.773286  1991.222810\n",
              "8  1998.884692  2020.009067\n",
              "9  1999.709858  1984.199251"
            ]
          },
          "metadata": {},
          "execution_count": 98
        }
      ]
    },
    {
      "cell_type": "code",
      "metadata": {
        "colab": {
          "base_uri": "https://localhost:8080/",
          "height": 357
        },
        "id": "Q7E_GeoHziyT",
        "outputId": "efdc94d1-7e00-49d1-9fae-3cf15d95ac57"
      },
      "source": [
        "#Ultimos registros\n",
        "df_base_01.tail(10)"
      ],
      "execution_count": 99,
      "outputs": [
        {
          "output_type": "execute_result",
          "data": {
            "text/html": [
              "<div>\n",
              "<style scoped>\n",
              "    .dataframe tbody tr th:only-of-type {\n",
              "        vertical-align: middle;\n",
              "    }\n",
              "\n",
              "    .dataframe tbody tr th {\n",
              "        vertical-align: top;\n",
              "    }\n",
              "\n",
              "    .dataframe thead th {\n",
              "        text-align: right;\n",
              "    }\n",
              "</style>\n",
              "<table border=\"1\" class=\"dataframe\">\n",
              "  <thead>\n",
              "    <tr style=\"text-align: right;\">\n",
              "      <th></th>\n",
              "      <th>pop1</th>\n",
              "      <th>pop2</th>\n",
              "    </tr>\n",
              "  </thead>\n",
              "  <tbody>\n",
              "    <tr>\n",
              "      <th>9990</th>\n",
              "      <td>2000.424760</td>\n",
              "      <td>2003.513931</td>\n",
              "    </tr>\n",
              "    <tr>\n",
              "      <th>9991</th>\n",
              "      <td>1994.527861</td>\n",
              "      <td>1980.948056</td>\n",
              "    </tr>\n",
              "    <tr>\n",
              "      <th>9992</th>\n",
              "      <td>2022.276945</td>\n",
              "      <td>1998.791710</td>\n",
              "    </tr>\n",
              "    <tr>\n",
              "      <th>9993</th>\n",
              "      <td>1993.486906</td>\n",
              "      <td>2008.891410</td>\n",
              "    </tr>\n",
              "    <tr>\n",
              "      <th>9994</th>\n",
              "      <td>1999.125441</td>\n",
              "      <td>2038.436165</td>\n",
              "    </tr>\n",
              "    <tr>\n",
              "      <th>9995</th>\n",
              "      <td>1997.849976</td>\n",
              "      <td>2001.318114</td>\n",
              "    </tr>\n",
              "    <tr>\n",
              "      <th>9996</th>\n",
              "      <td>1993.577883</td>\n",
              "      <td>1990.467612</td>\n",
              "    </tr>\n",
              "    <tr>\n",
              "      <th>9997</th>\n",
              "      <td>1988.345857</td>\n",
              "      <td>1998.557996</td>\n",
              "    </tr>\n",
              "    <tr>\n",
              "      <th>9998</th>\n",
              "      <td>2014.175616</td>\n",
              "      <td>2017.397455</td>\n",
              "    </tr>\n",
              "    <tr>\n",
              "      <th>9999</th>\n",
              "      <td>2012.053286</td>\n",
              "      <td>2026.827392</td>\n",
              "    </tr>\n",
              "  </tbody>\n",
              "</table>\n",
              "</div>"
            ],
            "text/plain": [
              "             pop1         pop2\n",
              "9990  2000.424760  2003.513931\n",
              "9991  1994.527861  1980.948056\n",
              "9992  2022.276945  1998.791710\n",
              "9993  1993.486906  2008.891410\n",
              "9994  1999.125441  2038.436165\n",
              "9995  1997.849976  2001.318114\n",
              "9996  1993.577883  1990.467612\n",
              "9997  1988.345857  1998.557996\n",
              "9998  2014.175616  2017.397455\n",
              "9999  2012.053286  2026.827392"
            ]
          },
          "metadata": {},
          "execution_count": 99
        }
      ]
    },
    {
      "cell_type": "code",
      "metadata": {
        "colab": {
          "base_uri": "https://localhost:8080/"
        },
        "id": "XRu-W-Hr02_v",
        "outputId": "c6cf7550-c71f-4a39-c2d9-b9d84b09b5a4"
      },
      "source": [
        "#Verificando o tipo de dados\n",
        "df_base_01.info()"
      ],
      "execution_count": 100,
      "outputs": [
        {
          "output_type": "stream",
          "name": "stdout",
          "text": [
            "<class 'pandas.core.frame.DataFrame'>\n",
            "RangeIndex: 10000 entries, 0 to 9999\n",
            "Data columns (total 2 columns):\n",
            " #   Column  Non-Null Count  Dtype  \n",
            "---  ------  --------------  -----  \n",
            " 0   pop1    10000 non-null  float64\n",
            " 1   pop2    10000 non-null  float64\n",
            "dtypes: float64(2)\n",
            "memory usage: 156.4 KB\n"
          ]
        }
      ]
    },
    {
      "cell_type": "markdown",
      "metadata": {
        "id": "QSEPjdY21HAC"
      },
      "source": [
        "***RESULTADO:***\n",
        "\n",
        "*1) A base contém duas colunas, representando duas populações, pop1 e pop2, com 10.000 registros cada.*\n",
        "\n",
        "*2) Não existem registros NULOS*\n",
        "\n",
        "*3) As duas colunas são numéricas do tipo float64*"
      ]
    },
    {
      "cell_type": "markdown",
      "metadata": {
        "id": "Ml8gBveJUw-0"
      },
      "source": [
        "**2. CÁLCULO DA MÉDIA, DESVIO PADRÃO E VARIÂNCIA DAS POPULAÇÕES**\n",
        "\n"
      ]
    },
    {
      "cell_type": "code",
      "metadata": {
        "id": "b8Cb5dm8oV1Y"
      },
      "source": [
        "# Cria funcao que calcula a estatistica básica\n",
        "def estatisca_basica(df):\n",
        "  n_mean = np.mean(df)\n",
        "  n_std = np.std(df, ddof=1)\n",
        "  n_var = np.var(df, ddof=1)\n",
        "  print(f'Variável {df.name}\\nMédia: {n_mean:.2f} \\nDesvio Padrão: {n_std:.2f} \\nVariância: {n_var:.2f}\\n\\n')\n",
        "  return n_mean, n_std, n_var"
      ],
      "execution_count": 101,
      "outputs": []
    },
    {
      "cell_type": "code",
      "metadata": {
        "colab": {
          "base_uri": "https://localhost:8080/"
        },
        "id": "UV9OPIbgWqvU",
        "outputId": "f52eee73-59fe-467b-a5a1-5dc8be77ec33"
      },
      "source": [
        "variaveis = ['pop1', 'pop2']\n",
        "\n",
        "for i in variaveis:\n",
        "  n_mean, n_std, n_var = estatisca_basica(df_base_01[i])"
      ],
      "execution_count": 102,
      "outputs": [
        {
          "output_type": "stream",
          "name": "stdout",
          "text": [
            "Variável pop1\n",
            "Média: 1999.92 \n",
            "Desvio Padrão: 12.32 \n",
            "Variância: 151.71\n",
            "\n",
            "\n",
            "Variável pop2\n",
            "Média: 1999.95 \n",
            "Desvio Padrão: 15.76 \n",
            "Variância: 248.23\n",
            "\n",
            "\n"
          ]
        }
      ]
    },
    {
      "cell_type": "markdown",
      "metadata": {
        "id": "vcZ4wa0uGLUd"
      },
      "source": [
        "**3. AVALIAÇÃO VISUAL DAS POPULAÇÕES POP1 E POP2 (10.000 REGISTROS)**\n",
        "\n",
        "Avalição prévia dos dados para criação da situação problema \n",
        "\n",
        "**3.1 HISTOGRAMA E BOXPLOT DAS POPULACÕES**"
      ]
    },
    {
      "cell_type": "code",
      "metadata": {
        "colab": {
          "base_uri": "https://localhost:8080/",
          "height": 761
        },
        "id": "tdTcQyJLGIuZ",
        "outputId": "f68d674e-3272-4cb3-d9ad-282dc0c1abb3"
      },
      "source": [
        "sigma = np.std(df_base_01['pop1'])\n",
        "mu = np.mean(df_base_01['pop1'])\n",
        "\n",
        "count, bins, ignored = plt.hist(df_base_01['pop1'], 30, density=True)\n",
        "\n",
        "plt.plot(bins, 1/(sigma * np.sqrt(2 * np.pi)) *\n",
        "               np.exp( - (bins - mu)**2 / (2 * sigma**2) ), linewidth=2, color='r')\n",
        "plt.show()\n",
        "\n",
        "sigma = np.std(df_base_01['pop2'])\n",
        "mu = np.mean(df_base_01['pop2'])\n",
        "\n",
        "count, bins, ignored = plt.hist(df_base_01['pop2'], 30, density=True)\n",
        "\n",
        "plt.plot(bins, 1/(sigma * np.sqrt(2 * np.pi)) *\n",
        "               np.exp( - (bins - mu)**2 / (2 * sigma**2) ), linewidth=2, color='r')\n",
        "plt.show()\n",
        "\n",
        "ax = sns.boxplot(data=df_base_01)\n",
        "plt.show()"
      ],
      "execution_count": 103,
      "outputs": [
        {
          "output_type": "display_data",
          "data": {
            "image/png": "[encoded data removed]",
            "text/plain": [
              "<Figure size 432x288 with 1 Axes>"
            ]
          },
          "metadata": {
            "needs_background": "light"
          }
        },
        {
          "output_type": "display_data",
          "data": {
            "image/png": "[encoded data removed]",
            "text/plain": [
              "<Figure size 432x288 with 1 Axes>"
            ]
          },
          "metadata": {
            "needs_background": "light"
          }
        },
        {
          "output_type": "display_data",
          "data": {
            "image/png": "[encoded data removed]",
            "text/plain": [
              "<Figure size 432x288 with 1 Axes>"
            ]
          },
          "metadata": {
            "needs_background": "light"
          }
        }
      ]
    },
    {
      "cell_type": "markdown",
      "metadata": {
        "id": "iFzUJ-rgwhDc"
      },
      "source": [
        "***RESULTADO:***\n",
        "\n",
        "*DISTRIBUIÇÃO DOS DADOS SUGERE QUE AMBAS AS POPULAÇÕES SÃO NORMAIS E POSSUEM A MESMA MÉDIA*"
      ]
    },
    {
      "cell_type": "markdown",
      "metadata": {
        "id": "d0Z4RBCTtycI"
      },
      "source": [
        "**3.2 DEFINICAO DO TAMANHO DA AMOSTRA**"
      ]
    },
    {
      "cell_type": "code",
      "metadata": {
        "colab": {
          "base_uri": "https://localhost:8080/"
        },
        "id": "jLzD45ByWjX_",
        "outputId": "8bb17144-7297-419c-b179-b47798e24637"
      },
      "source": [
        "def tamanhoAmostra(e, N):\n",
        "\n",
        "    n = (N / (1 + (N*(e**2))))\n",
        "\n",
        "    return (n)\n",
        "\n",
        "nivel_significancia = 0.05\n",
        "pop = 10000\n",
        "\n",
        "n_amostra = int(tamanhoAmostra(nivel_significancia, pop))\n",
        "\n",
        "print(f'O tamanho da amostra ideal é de = {n_amostra:.0f}')"
      ],
      "execution_count": 104,
      "outputs": [
        {
          "output_type": "stream",
          "name": "stdout",
          "text": [
            "O tamanho da amostra ideal é de = 384\n"
          ]
        }
      ]
    },
    {
      "cell_type": "markdown",
      "metadata": {
        "id": "nPX0EPpf8og4"
      },
      "source": [
        "**4. SITUAÇÃO PROBLEMA: AVALIAÇÃO DE UM MÉTODO MANUAL DE MEDIÇÃO**\n",
        "\n",
        "Um professor de matemática, ao ensinar geometria, propôs a dois alunos que criassem um instrumento próprio para medição de uma árvore.\n",
        "\n",
        "Cada aluno realizou 10000 medições (em centímetros) utilizando o seu instrumento em diferentes momentos.\n",
        "\n",
        "O professor então selecionou duas amostras aleatórias com 385 medições de cada aluno e foi testar a hipótese de que os métodos desenvolvidos pelos alunos chegaram ao mesmo resultado, isto é, continham a mesma média para as medições, considerando um nível de 5% de significância."
      ]
    },
    {
      "cell_type": "markdown",
      "metadata": {
        "id": "HEi5fHtNCtxe"
      },
      "source": [
        "**4.1 AMOSTRA ALEATORIA SIMPLES**\n"
      ]
    },
    {
      "cell_type": "code",
      "metadata": {
        "id": "rrLzfbanB7-o"
      },
      "source": [
        "#DEFINE UMA AMOSTRA DE 100 PARA CADA POPULACAO\n",
        "df_sample_pop1 = df_base_01['pop1'].sample(n=n_amostra)\n",
        "df_sample_pop2 = df_base_01['pop2'].sample(n=n_amostra)"
      ],
      "execution_count": 105,
      "outputs": []
    },
    {
      "cell_type": "markdown",
      "metadata": {
        "id": "k4ud6LcXVUKy"
      },
      "source": [
        "**4.2 ESTUDO DA AMOSTRA DO ALUNO 01**"
      ]
    },
    {
      "cell_type": "code",
      "metadata": {
        "colab": {
          "base_uri": "https://localhost:8080/",
          "height": 614
        },
        "id": "6oQgpu5d0kDp",
        "outputId": "c23eebb1-0a4e-492e-aa78-e642ece59ba5"
      },
      "source": [
        "#MEDIA E DESVIO PARA A AMOSTRA DA POP1\n",
        "n_mean, n_std, n_var = estatisca_basica(df_sample_pop1)\n",
        "\n",
        "#HISTOGRAMA POP 01\n",
        "sigma = n_std\n",
        "mu = n_mean\n",
        "count, bins, ignored = plt.hist(df_sample_pop1, 50, density=True)\n",
        "\n",
        "plt.plot(bins, 1/(sigma * np.sqrt(2 * np.pi)) *\n",
        "               np.exp( - (bins - mu)**2 / (2 * sigma**2) ), linewidth=2, color='r')\n",
        "plt.show()\n",
        "\n",
        "#BOXPLOT POP 01\n",
        "ax = sns.boxplot(data= pd.DataFrame(df_sample_pop1))\n",
        "plt.show()"
      ],
      "execution_count": 106,
      "outputs": [
        {
          "output_type": "stream",
          "name": "stdout",
          "text": [
            "Variável pop1\n",
            "Média: 1999.38 \n",
            "Desvio Padrão: 12.55 \n",
            "Variância: 157.49\n",
            "\n",
            "\n"
          ]
        },
        {
          "output_type": "display_data",
          "data": {
            "image/png": "[encoded data removed]",
            "text/plain": [
              "<Figure size 432x288 with 1 Axes>"
            ]
          },
          "metadata": {
            "needs_background": "light"
          }
        },
        {
          "output_type": "display_data",
          "data": {
            "image/png": "[encoded data removed]",
            "text/plain": [
              "<Figure size 432x288 with 1 Axes>"
            ]
          },
          "metadata": {
            "needs_background": "light"
          }
        }
      ]
    },
    {
      "cell_type": "markdown",
      "metadata": {
        "id": "Ux7mmu2YVeYd"
      },
      "source": [
        "**4.3 ESTUDO DA AMOSTRA DO ALUNO 02**"
      ]
    },
    {
      "cell_type": "code",
      "metadata": {
        "colab": {
          "base_uri": "https://localhost:8080/",
          "height": 614
        },
        "id": "e6Z4YRBsCWDt",
        "outputId": "9b50dd0b-90bc-4bbf-dd6b-4939cd40b21e"
      },
      "source": [
        "#MEDIA E DESVIO PARA A AMOSTRA DA POP2\n",
        "n_mean, n_std, n_var = estatisca_basica(df_sample_pop2)\n",
        "\n",
        "#HISTOGRAMA POP 02\n",
        "sigma = n_std\n",
        "mu = n_mean\n",
        "count, bins, ignored = plt.hist(df_sample_pop2, 50, density=True)\n",
        "\n",
        "plt.plot(bins, 1/(sigma * np.sqrt(2 * np.pi)) *\n",
        "               np.exp( - (bins - mu)**2 / (2 * sigma**2) ), linewidth=2, color='r')\n",
        "plt.show()\n",
        "\n",
        "#BOXPLOT POP 02\n",
        "ax = sns.boxplot(data= pd.DataFrame(df_sample_pop2))\n",
        "plt.show()"
      ],
      "execution_count": 107,
      "outputs": [
        {
          "output_type": "stream",
          "name": "stdout",
          "text": [
            "Variável pop2\n",
            "Média: 1999.90 \n",
            "Desvio Padrão: 15.97 \n",
            "Variância: 255.04\n",
            "\n",
            "\n"
          ]
        },
        {
          "output_type": "display_data",
          "data": {
            "image/png": "[encoded data removed]",
            "text/plain": [
              "<Figure size 432x288 with 1 Axes>"
            ]
          },
          "metadata": {
            "needs_background": "light"
          }
        },
        {
          "output_type": "display_data",
          "data": {
            "image/png": "[encoded data removed]",
            "text/plain": [
              "<Figure size 432x288 with 1 Axes>"
            ]
          },
          "metadata": {
            "needs_background": "light"
          }
        }
      ]
    },
    {
      "cell_type": "markdown",
      "metadata": {
        "id": "u1fBGJKCW33Z"
      },
      "source": [
        "***RESULTADO:***\n",
        "\n",
        "*De acordo com a visualização preliminar da distribuição (via histograma)  a partir dos dados das amostras com 100 medições dos ALUNOS 01 e 02 em comparação com uma distribuição normal \"semelhante\", é possível que ambas amostras (POPULACAO 01 e POPULACAO 02) assumam distribuição aproximadamente NORMAIS, visto que tendem a uma forma de \"sino\", no entanto não podemos afirmar com certeza.*\n",
        "\n",
        "*Desse modo, vamos realizar o teste de normalidade para confirmar tal hipotese*"
      ]
    },
    {
      "cell_type": "markdown",
      "metadata": {
        "id": "kTeyAB_wGlEn"
      },
      "source": [
        "**4.4 TESTE DE NORMALIDADE DAS AMOSTRAS DO ALUNO 01 E ALUNO 02 - TESTE DE SHAPIRO**"
      ]
    },
    {
      "cell_type": "code",
      "metadata": {
        "colab": {
          "base_uri": "https://localhost:8080/"
        },
        "id": "N7c_WeGUDcKm",
        "outputId": "13470298-6cbe-4b93-9ad3-2880d168b1d6"
      },
      "source": [
        "# CRIA FUNCAO TESTE DE NORMALIDADE\n",
        "def teste_normal(df):\n",
        "  stat, pvalue = stats.shapiro(df)\n",
        "  print('Statistics=%.3f, pvalue=%.3f' % (stat, pvalue))\n",
        "\n",
        "  if pvalue > 0.05:\n",
        "    print('Distribuição da variável ' + df.name + ' é normal (falha ao rejeitar H0)\\n')\n",
        "  else:\n",
        "    print('Distribuição da variável ' + df.name + ' não é normal(rejeita H0)\\n')\n",
        "\n",
        "teste_normal(df_sample_pop1)\n",
        "teste_normal(df_sample_pop2)"
      ],
      "execution_count": 108,
      "outputs": [
        {
          "output_type": "stream",
          "name": "stdout",
          "text": [
            "Statistics=0.997, pvalue=0.616\n",
            "Distribuição da variável pop1 é normal (falha ao rejeitar H0)\n",
            "\n",
            "Statistics=0.997, pvalue=0.621\n",
            "Distribuição da variável pop2 é normal (falha ao rejeitar H0)\n",
            "\n"
          ]
        }
      ]
    },
    {
      "cell_type": "markdown",
      "metadata": {
        "id": "cJYEsA5zVnrp"
      },
      "source": [
        "***RESULTADO:***\n",
        "\n",
        "*A distribuição dos resultados das medições do ALUNO 01 (pop1) e do ALUNO 02 (pop2) são NORMAIS (falha ao rejeitar H0)*"
      ]
    },
    {
      "cell_type": "markdown",
      "metadata": {
        "id": "LHY1J9YyHeIr"
      },
      "source": [
        "**4.5 INTERVALO DE CONFIANCA DA MÉDIA**"
      ]
    },
    {
      "cell_type": "code",
      "metadata": {
        "id": "2KNjkNphGana"
      },
      "source": [
        "#Funcao que calcula o intervalo de confianca da média\n",
        "def confidence_interval (nivel_confianca, df_sample):  \n",
        "  n_tamanho = df_sample.size - 1\n",
        "  sample_mean = np.mean(df_sample)\n",
        "  sample_standard_error = np.std(df_sample, ddof=1)\n",
        "  \n",
        "  return t.interval(nivel_confianca, n_tamanho, sample_mean, sample_standard_error/np.sqrt(len(df_sample)))"
      ],
      "execution_count": 109,
      "outputs": []
    },
    {
      "cell_type": "code",
      "metadata": {
        "colab": {
          "base_uri": "https://localhost:8080/"
        },
        "id": "XAciFW7rGaZX",
        "outputId": "c2a0cede-6b7a-4597-df98-a2de1e3d52b4"
      },
      "source": [
        "nivel_confianca = 0.95\n",
        "n_min, nmax = confidence_interval(nivel_confianca, df_sample_pop1)\n",
        "print(f'Com intervalo de confiança de {nivel_confianca*100}%, a média da variável {df_sample_pop1.name} está entre {n_min:.2f} e {nmax:.2f}\\n')\n",
        "\n",
        "n_min, nmax = confidence_interval(nivel_confianca, df_sample_pop2)\n",
        "print(f'Com intervalo de confiança de {nivel_confianca*100}%, a média da variável {df_sample_pop2.name} está entre {n_min:.2f} e {nmax:.2f}\\n')"
      ],
      "execution_count": 110,
      "outputs": [
        {
          "output_type": "stream",
          "name": "stdout",
          "text": [
            "Com intervalo de confiança de 95.0%, a média da variável pop1 está entre 1998.12 e 2000.63\n",
            "\n",
            "Com intervalo de confiança de 95.0%, a média da variável pop2 está entre 1998.30 e 2001.50\n",
            "\n"
          ]
        }
      ]
    },
    {
      "cell_type": "markdown",
      "metadata": {
        "id": "tlkdT3CRnm4N"
      },
      "source": [
        "***RESULTADO:***\n",
        "\n",
        "*Com intervalo de confiança de 95%, a média das medições estão entre:*\n",
        "\n",
        "*ALUNO 01 = entre 1998.12 e 2000.63*\n",
        "\n",
        "*ALUNO 02 = entre 1998.30 e 2001.50*\n",
        "\n",
        "*OBS.: Conforme calculado anteriormente a partir do universo da população , sabemos que a média da **População 01** é **1999.92** e da **População 02** é **1999.95**, o que confirma os valores acima encontrado.*\n",
        "\n"
      ]
    },
    {
      "cell_type": "markdown",
      "metadata": {
        "id": "XhMoWfgWO42n"
      },
      "source": [
        "**4.6 TESTE DE IGUALDADE DAS VARIÂNCIAS**"
      ]
    },
    {
      "cell_type": "code",
      "metadata": {
        "colab": {
          "base_uri": "https://localhost:8080/"
        },
        "id": "s_ktX_pCL7Ix",
        "outputId": "1eca54ae-bea3-46d2-d8dd-9bfc7198529e"
      },
      "source": [
        "from scipy.stats import bartlett\n",
        "\n",
        "stat, pval = bartlett(df_base_01['pop1'], df_base_01['pop2'])\n",
        "print(pval)"
      ],
      "execution_count": 111,
      "outputs": [
        {
          "output_type": "stream",
          "name": "stdout",
          "text": [
            "1.7138674416748587e-132\n"
          ]
        }
      ]
    },
    {
      "cell_type": "markdown",
      "metadata": {
        "id": "h92VnFUMOVTV"
      },
      "source": [
        "***RESULTADO:***\n",
        "\n",
        "*O **p-valor** sendo muito pequeno indica que as populações **NÃO** têm variâncias iguais.*"
      ]
    },
    {
      "cell_type": "markdown",
      "metadata": {
        "id": "20BhEWryo-g5"
      },
      "source": [
        "**5. TESTE DE IGUALDADE DAS MÉDIAS**\n",
        "\n",
        "A hipótese que o professor de geometria irá testar é a de que as médias das medições obtidas pelos dois alunos são IGUAIS.\n",
        "\n"
      ]
    },
    {
      "cell_type": "markdown",
      "metadata": {
        "id": "HeOqF232p0Wr"
      },
      "source": [
        "PARA TANTO, CONFORME VIMOS TEMOS QUE:\n",
        "\n",
        "1) Ambas amostras são **AAS**\n",
        "\n",
        "2) Ambas amostras têm **DISTRIBUIÇÃO NORMAL**, conforme resultado do teste Shapiro\n",
        "\n",
        "3) Ambas populações são **INDEPENDENTES**\n",
        "\n",
        "Além disso, temos que a **VARIÂNCIA é DESCONHECIDA e DIFERENTE**, conforme verificado no teste de bartlett acima.\n",
        "\n",
        "Portanto, para realizar o teste de hipótese iremos utilizar a **DISTRIBUIÇÃO T-STUDENT** ao inves da distribuição Z.\n"
      ]
    },
    {
      "cell_type": "code",
      "metadata": {
        "id": "EFW1gQ6AQK3j"
      },
      "source": [
        "#Teste t-Student\n",
        "stat, pvalue = ttest_ind(df_sample_pop1, df_sample_pop2, equal_var=False)\n",
        "#print('Statistics=%.3f, pvalue=%.3f' % (stat, pvalue))\n",
        "\n",
        "if pvalue > 0.05:\n",
        "  print(f'As médias {df_sample_pop1.name} e {df_sample_pop2.name} são iguais, p-valor = {pvalue*100:.2f}% (falha ao rejeitar H0)\\n')\n",
        "else:\n",
        "  print(f'As médias {df_sample_pop1.name} e {df_sample_pop2.name} não são iguais, p-valor = {pvalue:.2f} (rejeita H0)\\n')\n",
        "\n"
      ],
      "execution_count": null,
      "outputs": []
    },
    {
      "cell_type": "markdown",
      "metadata": {
        "id": "jKQYqOwv2KZa"
      },
      "source": [
        "**6. CONCLUSÃO**\n",
        "\n",
        "PORTANTO, COM UM **NÍVEL DE SIGNIFICÂNCIA DE 5%**, TEMOS QUE AS **MÉDIAS DAS MEDIÇÕES SÃO IGUAIS** E, ASSIM, PODEMOS CONCLUIR QUE **OS DOIS INSTRUMENTOS CRIADOS PELOS ALUNOS CHEGARAM A MESMA MEDIÇÃO**!!\n",
        "\n"
      ]
    },
    {
      "cell_type": "markdown",
      "metadata": {
        "id": "JAej0-bzHLd_"
      },
      "source": [
        "**BASE DE DADOS 02**\n",
        "---\n"
      ]
    },
    {
      "cell_type": "markdown",
      "metadata": {
        "id": "82LvTUvJHXtS"
      },
      "source": [
        "**OBJETIVO:**\n",
        "\n",
        "Neste banco se encontram duas amostras de duas populações. Aqui a ideia é realizar um teste pareado. Não esqueça de contar sua história."
      ]
    },
    {
      "cell_type": "code",
      "metadata": {
        "id": "ppJdKZyoHRH6"
      },
      "source": [
        "#----------------------------------------------------------------------------------------------------\n",
        "# Arquivo/pasta do GitHub contendo os dados da BASE 02\n",
        "#----------------------------------------------------------------------------------------------------\n",
        "s_githubpath_entrada = 'https://raw.githubusercontent.com/rlgarcia79/ENAP_CienciaDados/main/'\n",
        "s_arquivo_entrada = 'rafael.leal.garciabase2.csv'\n",
        "\n",
        "#-----------------------------------------------------------------------------\n",
        "# Carrega o arquivo com os dados da BASE 02\n",
        "#-----------------------------------------------------------------------------\n",
        "df_base_02 = pd.read_csv(s_githubpath_entrada + s_arquivo_entrada)"
      ],
      "execution_count": 112,
      "outputs": []
    },
    {
      "cell_type": "markdown",
      "metadata": {
        "id": "LkSAB8y-I8wv"
      },
      "source": [
        "**1. EXPLORANDO A BASE DE DADOS 02**"
      ]
    },
    {
      "cell_type": "code",
      "metadata": {
        "colab": {
          "base_uri": "https://localhost:8080/"
        },
        "id": "vjjm49eOHkS4",
        "outputId": "8182040f-266b-46e2-8075-6c2219e9081a"
      },
      "source": [
        "# Qtde de linhas e colunas\n",
        "df_base_02.shape"
      ],
      "execution_count": 113,
      "outputs": [
        {
          "output_type": "execute_result",
          "data": {
            "text/plain": [
              "(100, 2)"
            ]
          },
          "metadata": {},
          "execution_count": 113
        }
      ]
    },
    {
      "cell_type": "code",
      "metadata": {
        "colab": {
          "base_uri": "https://localhost:8080/",
          "height": 203
        },
        "id": "P62piLXyHrA9",
        "outputId": "1c395e0e-84a6-49c2-b98d-6073f8531c36"
      },
      "source": [
        "#Primeiros registros\n",
        "df_base_02.head(5)"
      ],
      "execution_count": 116,
      "outputs": [
        {
          "output_type": "execute_result",
          "data": {
            "text/html": [
              "<div>\n",
              "<style scoped>\n",
              "    .dataframe tbody tr th:only-of-type {\n",
              "        vertical-align: middle;\n",
              "    }\n",
              "\n",
              "    .dataframe tbody tr th {\n",
              "        vertical-align: top;\n",
              "    }\n",
              "\n",
              "    .dataframe thead th {\n",
              "        text-align: right;\n",
              "    }\n",
              "</style>\n",
              "<table border=\"1\" class=\"dataframe\">\n",
              "  <thead>\n",
              "    <tr style=\"text-align: right;\">\n",
              "      <th></th>\n",
              "      <th>AM1</th>\n",
              "      <th>AM2</th>\n",
              "    </tr>\n",
              "  </thead>\n",
              "  <tbody>\n",
              "    <tr>\n",
              "      <th>0</th>\n",
              "      <td>48.188579</td>\n",
              "      <td>54.915908</td>\n",
              "    </tr>\n",
              "    <tr>\n",
              "      <th>1</th>\n",
              "      <td>46.094857</td>\n",
              "      <td>44.232471</td>\n",
              "    </tr>\n",
              "    <tr>\n",
              "      <th>2</th>\n",
              "      <td>46.900769</td>\n",
              "      <td>44.231272</td>\n",
              "    </tr>\n",
              "    <tr>\n",
              "      <th>3</th>\n",
              "      <td>41.846716</td>\n",
              "      <td>52.599458</td>\n",
              "    </tr>\n",
              "    <tr>\n",
              "      <th>4</th>\n",
              "      <td>45.660129</td>\n",
              "      <td>44.553672</td>\n",
              "    </tr>\n",
              "  </tbody>\n",
              "</table>\n",
              "</div>"
            ],
            "text/plain": [
              "         AM1        AM2\n",
              "0  48.188579  54.915908\n",
              "1  46.094857  44.232471\n",
              "2  46.900769  44.231272\n",
              "3  41.846716  52.599458\n",
              "4  45.660129  44.553672"
            ]
          },
          "metadata": {},
          "execution_count": 116
        }
      ]
    },
    {
      "cell_type": "code",
      "metadata": {
        "colab": {
          "base_uri": "https://localhost:8080/",
          "height": 203
        },
        "id": "9N5PbdsVHtqO",
        "outputId": "8eeab5e6-8cda-45ac-850f-fbc2672e075a"
      },
      "source": [
        "#Ultimos registros\n",
        "df_base_02.tail(5)"
      ],
      "execution_count": 117,
      "outputs": [
        {
          "output_type": "execute_result",
          "data": {
            "text/html": [
              "<div>\n",
              "<style scoped>\n",
              "    .dataframe tbody tr th:only-of-type {\n",
              "        vertical-align: middle;\n",
              "    }\n",
              "\n",
              "    .dataframe tbody tr th {\n",
              "        vertical-align: top;\n",
              "    }\n",
              "\n",
              "    .dataframe thead th {\n",
              "        text-align: right;\n",
              "    }\n",
              "</style>\n",
              "<table border=\"1\" class=\"dataframe\">\n",
              "  <thead>\n",
              "    <tr style=\"text-align: right;\">\n",
              "      <th></th>\n",
              "      <th>AM1</th>\n",
              "      <th>AM2</th>\n",
              "    </tr>\n",
              "  </thead>\n",
              "  <tbody>\n",
              "    <tr>\n",
              "      <th>95</th>\n",
              "      <td>50.835504</td>\n",
              "      <td>43.183034</td>\n",
              "    </tr>\n",
              "    <tr>\n",
              "      <th>96</th>\n",
              "      <td>46.500169</td>\n",
              "      <td>56.395978</td>\n",
              "    </tr>\n",
              "    <tr>\n",
              "      <th>97</th>\n",
              "      <td>48.111779</td>\n",
              "      <td>41.385775</td>\n",
              "    </tr>\n",
              "    <tr>\n",
              "      <th>98</th>\n",
              "      <td>45.005224</td>\n",
              "      <td>46.267955</td>\n",
              "    </tr>\n",
              "    <tr>\n",
              "      <th>99</th>\n",
              "      <td>44.320453</td>\n",
              "      <td>59.381319</td>\n",
              "    </tr>\n",
              "  </tbody>\n",
              "</table>\n",
              "</div>"
            ],
            "text/plain": [
              "          AM1        AM2\n",
              "95  50.835504  43.183034\n",
              "96  46.500169  56.395978\n",
              "97  48.111779  41.385775\n",
              "98  45.005224  46.267955\n",
              "99  44.320453  59.381319"
            ]
          },
          "metadata": {},
          "execution_count": 117
        }
      ]
    },
    {
      "cell_type": "code",
      "metadata": {
        "colab": {
          "base_uri": "https://localhost:8080/"
        },
        "id": "J-64FPGuH1Q0",
        "outputId": "a7a27599-738b-4710-a2fb-522b45b01dbe"
      },
      "source": [
        "#Verificando o tipo de dados\n",
        "df_base_02.info()"
      ],
      "execution_count": 118,
      "outputs": [
        {
          "output_type": "stream",
          "name": "stdout",
          "text": [
            "<class 'pandas.core.frame.DataFrame'>\n",
            "RangeIndex: 100 entries, 0 to 99\n",
            "Data columns (total 2 columns):\n",
            " #   Column  Non-Null Count  Dtype  \n",
            "---  ------  --------------  -----  \n",
            " 0   AM1     100 non-null    float64\n",
            " 1   AM2     100 non-null    float64\n",
            "dtypes: float64(2)\n",
            "memory usage: 1.7 KB\n"
          ]
        }
      ]
    },
    {
      "cell_type": "markdown",
      "metadata": {
        "id": "vqX0fglkH8dl"
      },
      "source": [
        "***RESULTADO:***\n",
        "\n",
        "*1) A base contém duas colunas, representando duas populações, AM1 e AM2, com 100 registros cada.*\n",
        "\n",
        "*2) Não existem registros NULOS*\n",
        "\n",
        "*3) As duas colunas são numéricas do tipo float64*"
      ]
    },
    {
      "cell_type": "markdown",
      "metadata": {
        "id": "l6M0ohiXIvGf"
      },
      "source": [
        "**2. CÁLCULO DA MÉDIA, DESVIO PADRÃO E VARIÂNCIA DAS POPULAÇÕES**"
      ]
    },
    {
      "cell_type": "code",
      "metadata": {
        "colab": {
          "base_uri": "https://localhost:8080/"
        },
        "id": "15WCFkKqInKd",
        "outputId": "b62d05d5-766d-45ea-aebd-a11d5381f690"
      },
      "source": [
        "variaveis = ['AM1', 'AM2']\n",
        "\n",
        "for i in variaveis:\n",
        "  n_mean, n_std, n_var = estatisca_basica(df_base_02[i])"
      ],
      "execution_count": 119,
      "outputs": [
        {
          "output_type": "stream",
          "name": "stdout",
          "text": [
            "Variável AM1\n",
            "Média: 46.30 \n",
            "Desvio Padrão: 2.28 \n",
            "Variância: 5.18\n",
            "\n",
            "\n",
            "Variável AM2\n",
            "Média: 47.41 \n",
            "Desvio Padrão: 5.94 \n",
            "Variância: 35.22\n",
            "\n",
            "\n"
          ]
        }
      ]
    },
    {
      "cell_type": "markdown",
      "metadata": {
        "id": "9AVj6CDOJWvF"
      },
      "source": [
        "**3. HISTOGRAMA E BOXPLOT DAS POPULACÕES AM1 E AM2**"
      ]
    },
    {
      "cell_type": "code",
      "metadata": {
        "colab": {
          "base_uri": "https://localhost:8080/",
          "height": 761
        },
        "id": "8owCHF-WJDAj",
        "outputId": "109a4c7e-4a45-4451-dbe5-18f62ba86886"
      },
      "source": [
        "sigma = np.std(df_base_02['AM1'])\n",
        "mu = np.mean(df_base_02['AM1'])\n",
        "\n",
        "count, bins, ignored = plt.hist(df_base_02['AM1'], 30, density=True)\n",
        "\n",
        "plt.plot(bins, 1/(sigma * np.sqrt(2 * np.pi)) *\n",
        "               np.exp( - (bins - mu)**2 / (2 * sigma**2) ), linewidth=2, color='r')\n",
        "plt.show()\n",
        "\n",
        "sigma = np.std(df_base_02['AM2'])\n",
        "mu = np.mean(df_base_02['AM2'])\n",
        "\n",
        "count, bins, ignored = plt.hist(df_base_02['AM2'], 30, density=True)\n",
        "\n",
        "plt.plot(bins, 1/(sigma * np.sqrt(2 * np.pi)) *\n",
        "               np.exp( - (bins - mu)**2 / (2 * sigma**2) ), linewidth=2, color='r')\n",
        "plt.show()\n",
        "\n",
        "ax = sns.boxplot(data=df_base_02)\n",
        "plt.show()"
      ],
      "execution_count": 120,
      "outputs": [
        {
          "output_type": "display_data",
          "data": {
            "image/png": "[encoded data removed]",
            "text/plain": [
              "<Figure size 432x288 with 1 Axes>"
            ]
          },
          "metadata": {
            "needs_background": "light"
          }
        },
        {
          "output_type": "display_data",
          "data": {
            "image/png": "[encoded data removed]",
            "text/plain": [
              "<Figure size 432x288 with 1 Axes>"
            ]
          },
          "metadata": {
            "needs_background": "light"
          }
        },
        {
          "output_type": "display_data",
          "data": {
            "image/png": "[encoded data removed]",
            "text/plain": [
              "<Figure size 432x288 with 1 Axes>"
            ]
          },
          "metadata": {
            "needs_background": "light"
          }
        }
      ]
    },
    {
      "cell_type": "code",
      "metadata": {
        "colab": {
          "base_uri": "https://localhost:8080/"
        },
        "id": "sdekb7S8JhG1",
        "outputId": "ee8cb3c0-4983-4e82-e18a-5b4f0ad13066"
      },
      "source": [
        "teste_normal(df_base_02['AM1'])\n",
        "teste_normal(df_base_02['AM2'])"
      ],
      "execution_count": 121,
      "outputs": [
        {
          "output_type": "stream",
          "name": "stdout",
          "text": [
            "Statistics=0.994, pvalue=0.923\n",
            "Distribuição da variável AM1 é normal (falha ao rejeitar H0)\n",
            "\n",
            "Statistics=0.950, pvalue=0.001\n",
            "Distribuição da variável AM2 não é normal(rejeita H0)\n",
            "\n"
          ]
        }
      ]
    },
    {
      "cell_type": "markdown",
      "metadata": {
        "id": "ocPCB-VhJ3px"
      },
      "source": [
        "***RESULTADO:***\n",
        "\n",
        "Distribuição da variável AM1 **é normal** (falha ao rejeitar H0) \n",
        "\n",
        "Distribuição da variável AM2 **não é normal**(rejeita H0)\n"
      ]
    },
    {
      "cell_type": "markdown",
      "metadata": {
        "id": "SwMe_z2JA_5z"
      },
      "source": [
        "**4. SITUAÇÃO PROBLEMA:**\n",
        "\n",
        "Um estudioso nutricionista e professor de educação física desenvolveu um novo método de treinamento funcional para obter ganhos de massa muscular e redução de percentual de gordura e, para avaliá-lo, resolveu usar um teste t pareado para determinar se um grupo de 100 participantes melhorou sua condição física depois de adotar o seu programa por 8 semanas.\n",
        "\n",
        "Para tanto, ele anotou a pontuação da condição física dos 100 participantes ANTES e DEPOIS do treinamento."
      ]
    },
    {
      "cell_type": "markdown",
      "metadata": {
        "id": "YdNolaaWFnZN"
      },
      "source": [
        "Assim, temos que a variável **AM1** representa o **ANTES** e a variável **AM2** representa o **DEPOIS**"
      ]
    },
    {
      "cell_type": "markdown",
      "metadata": {
        "id": "GJ-Uh73bFurj"
      },
      "source": [
        "**5. REALIZAÇÃO DO TESTE T-PAREADO**"
      ]
    },
    {
      "cell_type": "code",
      "metadata": {
        "colab": {
          "base_uri": "https://localhost:8080/"
        },
        "id": "7GO26MEyTsdS",
        "outputId": "d71f6400-e240-44dc-9c81-96c0d2917908"
      },
      "source": [
        "from scipy.stats import ttest_rel\n",
        "tset, p_valor = ttest_rel(df_base_02['AM1'], df_base_02['AM2'])\n",
        "\n",
        "# Verifica o resultado do p-value\n",
        "print(\"O p-valor é \" + str(p_valor))\n",
        "if p_valor > 0.05:\n",
        "    print('\\nNão podemos rejeitar a Hipótese nula de que as 2 amostras relacionadas têm valores médios (esperados) idênticos. (falha ao rejeitar H0)\\n')\n",
        "else:\n",
        "    print('\\nRejeitamos a Hipótese nula de que que as 2 amostras relacionadas têm valores médios (esperados) idênticos (rejeita H0)\\n') "
      ],
      "execution_count": null,
      "outputs": [
        {
          "output_type": "stream",
          "name": "stdout",
          "text": [
            "O p-valor é 0.09227796271100261\n",
            "\n",
            "Não podemos rejeitar a Hipótese nula de que as 2 amostras relacionadas têm valores médios (esperados) idênticos. (falha ao rejeitar H0)\n",
            "\n"
          ]
        }
      ]
    },
    {
      "cell_type": "markdown",
      "metadata": {
        "id": "NHx0TXOz_EG2"
      },
      "source": [
        "**6. CONCLUSÃO**\n",
        "\n",
        "TENDO EM VISTA QUE NÃO HOUVE ALTERAÇÃO NA MÉDIA DA PONTUAÇÃO DOS PARTICIPANTES APÓS A REALIZAÇÃO DO TREINAMENTO FUNCIONAL POR 8 SEMANAS, CONCLUI-SE QUE NÃO HÁ EVIDÊNCIAS PARA AFIRMAR QUE O NOVO MÉTODO É EFICAZ E APRESENTA RESULTADOS POSITIVOS POR QUEM O PRATICA."
      ]
    },
    {
      "cell_type": "markdown",
      "metadata": {
        "id": "k0LQIEteTv82"
      },
      "source": [
        "**BASE DE DADOS 03**\n",
        "---\n"
      ]
    },
    {
      "cell_type": "markdown",
      "metadata": {
        "id": "QJqHdep0Tv83"
      },
      "source": [
        "**OBJETIVO:**\n",
        "\n",
        "Neste banco encontram-se amostras de quatro subpopulações respondentes de uma pesquisa (a ser inventada pr você). As respostas são “Sim”, “Não” e “Talvez”. Aqui você deve realizar um teste de independência para as subpopulações."
      ]
    },
    {
      "cell_type": "code",
      "metadata": {
        "id": "gqAC_SPeTv84"
      },
      "source": [
        "#----------------------------------------------------------------------------------------------------\n",
        "# Arquivo/pasta do GitHub contendo os dados da BASE 03\n",
        "#----------------------------------------------------------------------------------------------------\n",
        "s_githubpath_entrada = 'https://raw.githubusercontent.com/rlgarcia79/ENAP_CienciaDados/main/'\n",
        "s_arquivo_entrada = 'rafael.leal.garciabase3.csv'\n",
        "\n",
        "#-----------------------------------------------------------------------------\n",
        "# Carrega o arquivo com os dados da BASE 02\n",
        "#-----------------------------------------------------------------------------\n",
        "df_base_03 = pd.read_csv(s_githubpath_entrada + s_arquivo_entrada)"
      ],
      "execution_count": 4,
      "outputs": []
    },
    {
      "cell_type": "markdown",
      "metadata": {
        "id": "dgzZhTHRTv85"
      },
      "source": [
        "**1. EXPLORANDO A BASE DE DADOS 03**"
      ]
    },
    {
      "cell_type": "code",
      "metadata": {
        "colab": {
          "base_uri": "https://localhost:8080/"
        },
        "id": "gUaBSJqWTv86",
        "outputId": "7721d254-0808-450b-c1e2-9c7f705abc1f"
      },
      "source": [
        "# Qtde de linhas e colunas\n",
        "df_base_03.shape"
      ],
      "execution_count": 5,
      "outputs": [
        {
          "output_type": "execute_result",
          "data": {
            "text/plain": [
              "(2000, 4)"
            ]
          },
          "metadata": {},
          "execution_count": 5
        }
      ]
    },
    {
      "cell_type": "code",
      "metadata": {
        "colab": {
          "base_uri": "https://localhost:8080/",
          "height": 203
        },
        "id": "SbgglAJVTv87",
        "outputId": "f7844fa1-c1ab-4c95-cc80-89d81afa7a26"
      },
      "source": [
        "#Primeiros registros\n",
        "df_base_03.head(5)"
      ],
      "execution_count": 6,
      "outputs": [
        {
          "output_type": "execute_result",
          "data": {
            "text/html": [
              "<div>\n",
              "<style scoped>\n",
              "    .dataframe tbody tr th:only-of-type {\n",
              "        vertical-align: middle;\n",
              "    }\n",
              "\n",
              "    .dataframe tbody tr th {\n",
              "        vertical-align: top;\n",
              "    }\n",
              "\n",
              "    .dataframe thead th {\n",
              "        text-align: right;\n",
              "    }\n",
              "</style>\n",
              "<table border=\"1\" class=\"dataframe\">\n",
              "  <thead>\n",
              "    <tr style=\"text-align: right;\">\n",
              "      <th></th>\n",
              "      <th>subpop1</th>\n",
              "      <th>subpop2</th>\n",
              "      <th>subpop3</th>\n",
              "      <th>subpop4</th>\n",
              "    </tr>\n",
              "  </thead>\n",
              "  <tbody>\n",
              "    <tr>\n",
              "      <th>0</th>\n",
              "      <td>sim</td>\n",
              "      <td>não</td>\n",
              "      <td>não</td>\n",
              "      <td>não</td>\n",
              "    </tr>\n",
              "    <tr>\n",
              "      <th>1</th>\n",
              "      <td>sim</td>\n",
              "      <td>talvez</td>\n",
              "      <td>não</td>\n",
              "      <td>não</td>\n",
              "    </tr>\n",
              "    <tr>\n",
              "      <th>2</th>\n",
              "      <td>não</td>\n",
              "      <td>não</td>\n",
              "      <td>sim</td>\n",
              "      <td>talvez</td>\n",
              "    </tr>\n",
              "    <tr>\n",
              "      <th>3</th>\n",
              "      <td>não</td>\n",
              "      <td>não</td>\n",
              "      <td>sim</td>\n",
              "      <td>talvez</td>\n",
              "    </tr>\n",
              "    <tr>\n",
              "      <th>4</th>\n",
              "      <td>sim</td>\n",
              "      <td>não</td>\n",
              "      <td>sim</td>\n",
              "      <td>não</td>\n",
              "    </tr>\n",
              "  </tbody>\n",
              "</table>\n",
              "</div>"
            ],
            "text/plain": [
              "  subpop1 subpop2 subpop3 subpop4\n",
              "0     sim     não     não     não\n",
              "1     sim  talvez     não     não\n",
              "2     não     não     sim  talvez\n",
              "3     não     não     sim  talvez\n",
              "4     sim     não     sim     não"
            ]
          },
          "metadata": {},
          "execution_count": 6
        }
      ]
    },
    {
      "cell_type": "code",
      "metadata": {
        "colab": {
          "base_uri": "https://localhost:8080/",
          "height": 203
        },
        "id": "KC42qqL8Tv88",
        "outputId": "aad0c918-38bc-4436-ee09-309d5c078da2"
      },
      "source": [
        "#Ultimos registros\n",
        "df_base_03.tail(5)"
      ],
      "execution_count": 7,
      "outputs": [
        {
          "output_type": "execute_result",
          "data": {
            "text/html": [
              "<div>\n",
              "<style scoped>\n",
              "    .dataframe tbody tr th:only-of-type {\n",
              "        vertical-align: middle;\n",
              "    }\n",
              "\n",
              "    .dataframe tbody tr th {\n",
              "        vertical-align: top;\n",
              "    }\n",
              "\n",
              "    .dataframe thead th {\n",
              "        text-align: right;\n",
              "    }\n",
              "</style>\n",
              "<table border=\"1\" class=\"dataframe\">\n",
              "  <thead>\n",
              "    <tr style=\"text-align: right;\">\n",
              "      <th></th>\n",
              "      <th>subpop1</th>\n",
              "      <th>subpop2</th>\n",
              "      <th>subpop3</th>\n",
              "      <th>subpop4</th>\n",
              "    </tr>\n",
              "  </thead>\n",
              "  <tbody>\n",
              "    <tr>\n",
              "      <th>1995</th>\n",
              "      <td>sim</td>\n",
              "      <td>não</td>\n",
              "      <td>sim</td>\n",
              "      <td>talvez</td>\n",
              "    </tr>\n",
              "    <tr>\n",
              "      <th>1996</th>\n",
              "      <td>não</td>\n",
              "      <td>sim</td>\n",
              "      <td>sim</td>\n",
              "      <td>talvez</td>\n",
              "    </tr>\n",
              "    <tr>\n",
              "      <th>1997</th>\n",
              "      <td>não</td>\n",
              "      <td>talvez</td>\n",
              "      <td>sim</td>\n",
              "      <td>talvez</td>\n",
              "    </tr>\n",
              "    <tr>\n",
              "      <th>1998</th>\n",
              "      <td>talvez</td>\n",
              "      <td>não</td>\n",
              "      <td>não</td>\n",
              "      <td>talvez</td>\n",
              "    </tr>\n",
              "    <tr>\n",
              "      <th>1999</th>\n",
              "      <td>sim</td>\n",
              "      <td>sim</td>\n",
              "      <td>talvez</td>\n",
              "      <td>talvez</td>\n",
              "    </tr>\n",
              "  </tbody>\n",
              "</table>\n",
              "</div>"
            ],
            "text/plain": [
              "     subpop1 subpop2 subpop3 subpop4\n",
              "1995     sim     não     sim  talvez\n",
              "1996     não     sim     sim  talvez\n",
              "1997     não  talvez     sim  talvez\n",
              "1998  talvez     não     não  talvez\n",
              "1999     sim     sim  talvez  talvez"
            ]
          },
          "metadata": {},
          "execution_count": 7
        }
      ]
    },
    {
      "cell_type": "markdown",
      "metadata": {
        "id": "c4dSHqhITv89"
      },
      "source": [
        "***RESULTADO:***\n",
        "\n",
        "*1) A base contém quatro colunas, representando quatro subpopulações (subpop1\tsubpop2\tsubpop3\tsubpop4) com 2000 registros cada. Portanto, temos no total uma coleta de 8.000 registros.*\n",
        "\n",
        "*2) Não existem registros NULOS*\n",
        "\n",
        "*3) As quatro colunas são do tipo string (object)*\n",
        "\n",
        "*TRATA-SE DE UMA BASE DE DADOS COM VARIÁVEIS CATEGÓRICAS*"
      ]
    },
    {
      "cell_type": "markdown",
      "metadata": {
        "id": "gErgc4OP3Umh"
      },
      "source": [
        "**2. SITUAÇÃO PROBLEMA:**\n",
        "\n",
        "A fim de verificar a relação entre a faixa etária dos usuários de um novo aplicativo para smartphone (aplicativo APP) e a sua satisfação ao utilizá-lo, a empresa desenvolvedora do software realizou uma pesquisa com os usuários do aplicativo, divididos em quatro faixas etárias, que questionou a possibilidade deles indicarem o novo aplicativo a alguém. \n",
        "\n",
        "Para cada faixa etária foram escolhidos aleatoriamente 2.000 usuários que responderam a seguinte pergunta: \n",
        "\n",
        "*\"Você recomendaria o uso do aplicativo APP?\"*\n",
        "\n",
        "As respostas possíveis são \"*Sim*\", \"*Não*\" e \"*Talvez*\"\n",
        "\n",
        "As quatro faixas etárias escolhidas foram:\n",
        "\n",
        "*   subpop1 = \"*Entre 21 a 30 anos*\"\n",
        "*   subpop2 = \"*Entre 31 a 40 anos*\"\n",
        "*   subpop3 = \"*Entre 41 a 50 anos*\"\n",
        "*   subpop4 = \"*Entre 51 a 60 anos*\"\n",
        "\n",
        "\n",
        "Portanto, a partir dos resultados coletados na pesquisa, a empresa deseja saber se há alguma relação entre a faixa etária dos usuários do aplicativo com a possibilidade deles o recomendarem a alguém.\n",
        "\n"
      ]
    },
    {
      "cell_type": "markdown",
      "metadata": {
        "id": "4hoxPUL3x0R0"
      },
      "source": [
        "**3. CRIA TABELA DE CONTINGÊNCIA**\n",
        "\n",
        "DATAFRAME COM A SUMARIZAÇÃO DOS DADOS DAS RESPOSTAS PARA CADA SUBPOPULAÇÃO `"
      ]
    },
    {
      "cell_type": "code",
      "metadata": {
        "colab": {
          "base_uri": "https://localhost:8080/"
        },
        "id": "EdUg0uxHWco7",
        "outputId": "5c3c74ef-261a-456f-dda6-2ff4187e9cba"
      },
      "source": [
        "df_stack = df_base_03.stack()\n",
        "df_stack = pd.DataFrame(df_stack)\n",
        "df_stack.reset_index(inplace=True)\n",
        "\n",
        "df_stack.columns = ['ind', 'faixa_etaria', 'recomenda_uso']\n",
        "df_pivot = pd.pivot_table(df_stack, columns='recomenda_uso', index='faixa_etaria', values='ind', aggfunc='count')\n",
        "\n",
        "print(df_pivot.sum(axis=0))\n",
        "print(df_pivot.sum(axis=1))"
      ],
      "execution_count": 10,
      "outputs": [
        {
          "output_type": "stream",
          "name": "stdout",
          "text": [
            "recomenda_uso\n",
            "não       1941\n",
            "sim       4270\n",
            "talvez    1789\n",
            "dtype: int64\n",
            "faixa_etaria\n",
            "subpop1    2000\n",
            "subpop2    2000\n",
            "subpop3    2000\n",
            "subpop4    2000\n",
            "dtype: int64\n"
          ]
        }
      ]
    },
    {
      "cell_type": "code",
      "metadata": {
        "colab": {
          "base_uri": "https://localhost:8080/",
          "height": 203
        },
        "id": "OueavAWeydAG",
        "outputId": "8395f62a-012b-4a06-c8b6-78f55cc4f74a"
      },
      "source": [
        "df_pivot"
      ],
      "execution_count": 11,
      "outputs": [
        {
          "output_type": "execute_result",
          "data": {
            "text/html": [
              "<div>\n",
              "<style scoped>\n",
              "    .dataframe tbody tr th:only-of-type {\n",
              "        vertical-align: middle;\n",
              "    }\n",
              "\n",
              "    .dataframe tbody tr th {\n",
              "        vertical-align: top;\n",
              "    }\n",
              "\n",
              "    .dataframe thead th {\n",
              "        text-align: right;\n",
              "    }\n",
              "</style>\n",
              "<table border=\"1\" class=\"dataframe\">\n",
              "  <thead>\n",
              "    <tr style=\"text-align: right;\">\n",
              "      <th>recomenda_uso</th>\n",
              "      <th>não</th>\n",
              "      <th>sim</th>\n",
              "      <th>talvez</th>\n",
              "    </tr>\n",
              "    <tr>\n",
              "      <th>faixa_etaria</th>\n",
              "      <th></th>\n",
              "      <th></th>\n",
              "      <th></th>\n",
              "    </tr>\n",
              "  </thead>\n",
              "  <tbody>\n",
              "    <tr>\n",
              "      <th>subpop1</th>\n",
              "      <td>565</td>\n",
              "      <td>1234</td>\n",
              "      <td>201</td>\n",
              "    </tr>\n",
              "    <tr>\n",
              "      <th>subpop2</th>\n",
              "      <td>591</td>\n",
              "      <td>986</td>\n",
              "      <td>423</td>\n",
              "    </tr>\n",
              "    <tr>\n",
              "      <th>subpop3</th>\n",
              "      <td>187</td>\n",
              "      <td>1614</td>\n",
              "      <td>199</td>\n",
              "    </tr>\n",
              "    <tr>\n",
              "      <th>subpop4</th>\n",
              "      <td>598</td>\n",
              "      <td>436</td>\n",
              "      <td>966</td>\n",
              "    </tr>\n",
              "  </tbody>\n",
              "</table>\n",
              "</div>"
            ],
            "text/plain": [
              "recomenda_uso  não   sim  talvez\n",
              "faixa_etaria                    \n",
              "subpop1        565  1234     201\n",
              "subpop2        591   986     423\n",
              "subpop3        187  1614     199\n",
              "subpop4        598   436     966"
            ]
          },
          "metadata": {},
          "execution_count": 11
        }
      ]
    },
    {
      "cell_type": "markdown",
      "metadata": {
        "id": "tVBsOgw5sbkN"
      },
      "source": [
        "**DEFINIÇÃO DO TESTE**\n",
        "\n",
        "CONSIDERANDO QUE:\n",
        "\n",
        "*   AS VARIÁVEIS SÃO CATEGÓRICAS\n",
        "*   A AMOSTRA É ALEATÓRIA\n",
        "*   AS OBSERVAÇÕES DA PESQUISA SÃO INDEPENDENTES \n",
        "\n",
        "ENTÃO PODEMOS UTILIZAR O TESTE DE QUI-QUADRADO PARA VERIFICAR A HIPÓTESE NULA DE QUE AS VARIÁVEIS SÃO ESTATISTICAMENTE INDEPENDENTES. "
      ]
    },
    {
      "cell_type": "markdown",
      "metadata": {
        "id": "x00AJhEfyghH"
      },
      "source": [
        "**4. REALIZA O TESTE DO QUI-QUADRADO PARA VERIFICAR A INDEPENDÊNCIAS DAS VARIÁVEIS**"
      ]
    },
    {
      "cell_type": "code",
      "metadata": {
        "colab": {
          "base_uri": "https://localhost:8080/"
        },
        "id": "-qAVgbULihGq",
        "outputId": "1ce1cd05-993a-4413-a42e-1899a3b8abdb"
      },
      "source": [
        "from scipy.stats import chi2_contingency\n",
        "\n",
        "a_matrix = np.matrix(df_pivot)\n",
        "chi_val, p_valor, dof, expected = chi2_contingency(a_matrix)\n",
        "\n",
        "print(chi_val, \"\\n\", p_valor, \"\\n\", dof, \"\\n\", expected)"
      ],
      "execution_count": 12,
      "outputs": [
        {
          "output_type": "stream",
          "name": "stdout",
          "text": [
            "1807.5799346519152 \n",
            " 0.0 \n",
            " 6 \n",
            " [[ 485.25 1067.5   447.25]\n",
            " [ 485.25 1067.5   447.25]\n",
            " [ 485.25 1067.5   447.25]\n",
            " [ 485.25 1067.5   447.25]]\n"
          ]
        }
      ]
    },
    {
      "cell_type": "code",
      "metadata": {
        "colab": {
          "base_uri": "https://localhost:8080/"
        },
        "id": "d67rw2tLzoDM",
        "outputId": "39451572-22b6-4307-8173-81d213ddb375"
      },
      "source": [
        "# Verifica o resultado do p-value\n",
        "print(\"O p-valor é \" + str(p_valor))\n",
        "if p_valor > 0.05:\n",
        "    print('As variaveis são INDEPENDENTES (falha ao rejeitar H0)\\n')\n",
        "else:\n",
        "    print('As variaveis são DEPENDENTES (rejeita H0)\\n') "
      ],
      "execution_count": 13,
      "outputs": [
        {
          "output_type": "stream",
          "name": "stdout",
          "text": [
            "O p-valor é 0.0\n",
            "As variaveis são DEPENDENTES (rejeita H0)\n",
            "\n"
          ]
        }
      ]
    },
    {
      "cell_type": "markdown",
      "metadata": {
        "id": "eMdnAs4B2_DL"
      },
      "source": [
        "**4.1 Utilizando outro método para testar a independência**"
      ]
    },
    {
      "cell_type": "code",
      "metadata": {
        "colab": {
          "base_uri": "https://localhost:8080/"
        },
        "id": "KlsQnI35uuHa",
        "outputId": "cdfe90d3-dc6d-4375-9521-20a84522cf08"
      },
      "source": [
        "!pip install bioinfokit\n",
        "from bioinfokit.analys import stat\n",
        "\n",
        "res = stat()\n",
        "res.chisq(df=df_pivot)\n",
        "\n",
        "print(res.summary)"
      ],
      "execution_count": 14,
      "outputs": [
        {
          "output_type": "stream",
          "name": "stdout",
          "text": [
            "Collecting bioinfokit\n",
            "  Downloading bioinfokit-2.0.6.tar.gz (84 kB)\n",
            "\u001b[?25l\r\u001b[K     |███▉                            | 10 kB 19.1 MB/s eta 0:00:01\r\u001b[K     |███████▊                        | 20 kB 10.1 MB/s eta 0:00:01\r\u001b[K     |███████████▋                    | 30 kB 8.2 MB/s eta 0:00:01\r\u001b[K     |███████████████▌                | 40 kB 7.4 MB/s eta 0:00:01\r\u001b[K     |███████████████████▍            | 51 kB 4.2 MB/s eta 0:00:01\r\u001b[K     |███████████████████████▎        | 61 kB 4.5 MB/s eta 0:00:01\r\u001b[K     |███████████████████████████▏    | 71 kB 4.5 MB/s eta 0:00:01\r\u001b[K     |███████████████████████████████ | 81 kB 5.1 MB/s eta 0:00:01\r\u001b[K     |████████████████████████████████| 84 kB 1.7 MB/s \n",
            "\u001b[?25hRequirement already satisfied: pandas in /usr/local/lib/python3.7/dist-packages (from bioinfokit) (1.1.5)\n",
            "Requirement already satisfied: numpy in /usr/local/lib/python3.7/dist-packages (from bioinfokit) (1.19.5)\n",
            "Requirement already satisfied: matplotlib in /usr/local/lib/python3.7/dist-packages (from bioinfokit) (3.2.2)\n",
            "Requirement already satisfied: scipy in /usr/local/lib/python3.7/dist-packages (from bioinfokit) (1.4.1)\n",
            "Requirement already satisfied: scikit-learn in /usr/local/lib/python3.7/dist-packages (from bioinfokit) (0.22.2.post1)\n",
            "Requirement already satisfied: seaborn in /usr/local/lib/python3.7/dist-packages (from bioinfokit) (0.11.2)\n",
            "Requirement already satisfied: matplotlib-venn in /usr/local/lib/python3.7/dist-packages (from bioinfokit) (0.11.6)\n",
            "Requirement already satisfied: tabulate in /usr/local/lib/python3.7/dist-packages (from bioinfokit) (0.8.9)\n",
            "Requirement already satisfied: statsmodels in /usr/local/lib/python3.7/dist-packages (from bioinfokit) (0.10.2)\n",
            "Collecting textwrap3\n",
            "  Downloading textwrap3-0.9.2-py2.py3-none-any.whl (12 kB)\n",
            "Collecting adjustText\n",
            "  Downloading adjustText-0.7.3.tar.gz (7.5 kB)\n",
            "Requirement already satisfied: cycler>=0.10 in /usr/local/lib/python3.7/dist-packages (from matplotlib->bioinfokit) (0.11.0)\n",
            "Requirement already satisfied: kiwisolver>=1.0.1 in /usr/local/lib/python3.7/dist-packages (from matplotlib->bioinfokit) (1.3.2)\n",
            "Requirement already satisfied: pyparsing!=2.0.4,!=2.1.2,!=2.1.6,>=2.0.1 in /usr/local/lib/python3.7/dist-packages (from matplotlib->bioinfokit) (2.4.7)\n",
            "Requirement already satisfied: python-dateutil>=2.1 in /usr/local/lib/python3.7/dist-packages (from matplotlib->bioinfokit) (2.8.2)\n",
            "Requirement already satisfied: six>=1.5 in /usr/local/lib/python3.7/dist-packages (from python-dateutil>=2.1->matplotlib->bioinfokit) (1.15.0)\n",
            "Requirement already satisfied: pytz>=2017.2 in /usr/local/lib/python3.7/dist-packages (from pandas->bioinfokit) (2018.9)\n",
            "Requirement already satisfied: joblib>=0.11 in /usr/local/lib/python3.7/dist-packages (from scikit-learn->bioinfokit) (1.1.0)\n",
            "Requirement already satisfied: patsy>=0.4.0 in /usr/local/lib/python3.7/dist-packages (from statsmodels->bioinfokit) (0.5.2)\n",
            "Building wheels for collected packages: bioinfokit, adjustText\n",
            "  Building wheel for bioinfokit (setup.py) ... \u001b[?25l\u001b[?25hdone\n",
            "  Created wheel for bioinfokit: filename=bioinfokit-2.0.6-py3-none-any.whl size=57066 sha256=4ebd765152fd60af6319890f40fbc9e68a3db49492a1721e99be13f6d62bbfc7\n",
            "  Stored in directory: /root/.cache/pip/wheels/38/b2/a0/3f65c463d3faababa8cb5f3076e3bfc1c49fea2a736a49038a\n",
            "  Building wheel for adjustText (setup.py) ... \u001b[?25l\u001b[?25hdone\n",
            "  Created wheel for adjustText: filename=adjustText-0.7.3-py3-none-any.whl size=7094 sha256=9b83634318e1948904007c17406446d5ab73b7bd82002e93f92fafb8a21f808a\n",
            "  Stored in directory: /root/.cache/pip/wheels/2f/98/32/afbf902d8f040fadfdf0a44357e4ab750afe165d873bf5893d\n",
            "Successfully built bioinfokit adjustText\n",
            "Installing collected packages: textwrap3, adjustText, bioinfokit\n",
            "Successfully installed adjustText-0.7.3 bioinfokit-2.0.6 textwrap3-0.9.2\n",
            "\n",
            "Chi-squared test for independence\n",
            "\n",
            "Test              Df    Chi-square    P-value\n",
            "--------------  ----  ------------  ---------\n",
            "Pearson            6       1807.58          0\n",
            "Log-likelihood     6       1849.69          0\n",
            "\n"
          ]
        }
      ]
    },
    {
      "cell_type": "markdown",
      "metadata": {
        "id": "QZ0JgnSJ5G97"
      },
      "source": [
        "**4.2 Mesmo fazendo testes com a combinação de apenas algumas subpopulações, o resultado do p-valor é sempre inferior a 0,05. Portanto, sempre DEPENDENTES!**"
      ]
    },
    {
      "cell_type": "code",
      "metadata": {
        "colab": {
          "base_uri": "https://localhost:8080/"
        },
        "id": "zffs2k4m5F6F",
        "outputId": "409ffefc-9152-457c-a4cd-bf648346b81b"
      },
      "source": [
        "from scipy.stats import chi2_contingency\n",
        "\n",
        "#Exclui subpop4\n",
        "observed = np.array([[565,\t1234,\t201], [591,\t986,\t423], [187,\t1614,\t199]]) \n",
        "chi_val, p_valor, dof, expected = chi2_contingency(observed)\n",
        "print(\"O p-valor é \" + str(p_valor))\n",
        "\n",
        "#Exclui subpop3 e subpop4\n",
        "observed = np.array([[565,\t1234,\t201], [187,\t1614,\t199]]) \n",
        "chi_val, p_valor, dof, expected = chi2_contingency(observed)\n",
        "print(\"O p-valor é \" + str(p_valor))\n",
        "\n",
        "#Exclui subpop1\n",
        "observed = np.array([[591,\t986,\t423], [187,\t1614,\t199], [598,\t436,\t966]]) \n",
        "chi_val, p_valor, dof, expected = chi2_contingency(observed)\n",
        "print(\"O p-valor é \" + str(p_valor))\n",
        "\n",
        "#Exclui subpop2\n",
        "observed = np.array([[565,\t1234,\t201], [187,\t1614,\t199], [598,\t436,\t966]]) \n",
        "chi_val, p_valor, dof, expected = chi2_contingency(observed)\n",
        "print(\"O p-valor é \" + str(p_valor))\n",
        "\n",
        "#Exclui subpop1 e subpop2\n",
        "observed = np.array([[187,\t1614,\t199], [598,\t436,\t966]]) \n",
        "chi_val, p_valor, dof, expected = chi2_contingency(observed)\n",
        "print(\"O p-valor é \" + str(p_valor))"
      ],
      "execution_count": 15,
      "outputs": [
        {
          "output_type": "stream",
          "name": "stdout",
          "text": [
            "O p-valor é 3.635516735756974e-108\n",
            "O p-valor é 5.356049976436081e-53\n",
            "O p-valor é 0.0\n",
            "O p-valor é 0.0\n",
            "O p-valor é 4.258057576214931e-304\n"
          ]
        }
      ]
    },
    {
      "cell_type": "markdown",
      "metadata": {
        "id": "8u83BuTz4L8S"
      },
      "source": [
        "**4.3 Mapa de calor para tentar visualizar a dependência das variáveis**"
      ]
    },
    {
      "cell_type": "code",
      "metadata": {
        "colab": {
          "base_uri": "https://localhost:8080/",
          "height": 515
        },
        "id": "NC3duI6ZlW_y",
        "outputId": "04890a54-8267-4db2-9e2f-904078df1cd9"
      },
      "source": [
        "plt.figure(figsize=(12,8)) \n",
        "sns.heatmap(df_pivot, annot=True, cmap=\"YlGnBu\")"
      ],
      "execution_count": 16,
      "outputs": [
        {
          "output_type": "execute_result",
          "data": {
            "text/plain": [
              "<matplotlib.axes._subplots.AxesSubplot at 0x7f7330c40210>"
            ]
          },
          "metadata": {},
          "execution_count": 16
        },
        {
          "output_type": "display_data",
          "data": {
            "image/png": "[encoded data removed]",
            "text/plain": [
              "<Figure size 864x576 with 2 Axes>"
            ]
          },
          "metadata": {
            "needs_background": "light"
          }
        }
      ]
    },
    {
      "cell_type": "markdown",
      "metadata": {
        "id": "zz5-NO_Y0oce"
      },
      "source": [
        "**5. CONCLUSÃO**\n",
        "\n",
        "*COM UM NÍVEL DE 5%, TEMOS QUE SAS VARIÁVEIS **FAIXA ETÁRIA** E **POSSIBILIDADE DE RECOMENDAÇÃO DO USO DO APLICATIVO APP** TEM ALGUMA RELAÇÃO E SÃO **DEPENDENTES**!*\n",
        "\n"
      ]
    }
  ]
}